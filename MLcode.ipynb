{
 "cells": [
  {
   "cell_type": "code",
   "execution_count": 10,
   "metadata": {},
   "outputs": [],
   "source": [
    "import numpy as np\n",
    "import matplotlib\n",
    "import scipy\n",
    "import matplotlib.pyplot as plt\n",
    "import sklearn.datasets\n",
    "import sklearn.cross_validation as cv\n",
    "import sklearn.linear_model as lm\n",
    "import scipy.io\n",
    "import sklearn.model_selection\n",
    "import pandas\n",
    "#importing data\n",
    "file = 'ishi.csv' \n",
    "names = ['cement','slag','Fly ash','Water','SP','Coarse Aggr.','Fine Aggr.','SLUMP(cm)','FLOW(cm)','Compressive Strength (28-day)(Mpa)']\n",
    "data=pandas.read_csv(file,names=names)"
   ]
  },
  {
   "cell_type": "code",
   "execution_count": 12,
   "metadata": {},
   "outputs": [
    {
     "name": "stdout",
     "output_type": "stream",
     "text": [
      "     cement   slag  Fly ash  Water    SP  Coarse Aggr.\n",
      "1     273.0   82.0    105.0  210.0   9.0         904.0\n",
      "2     163.0  149.0    191.0  180.0  12.0         843.0\n",
      "3     162.0  148.0    191.0  179.0  16.0         840.0\n",
      "4     162.0  148.0    190.0  179.0  19.0         838.0\n",
      "5     154.0  112.0    144.0  220.0  10.0         923.0\n",
      "6     147.0   89.0    115.0  202.0   9.0         860.0\n",
      "7     152.0  139.0    178.0  168.0  18.0         944.0\n",
      "8     145.0    0.0    227.0  240.0   6.0         750.0\n",
      "9     152.0    0.0    237.0  204.0   6.0         785.0\n",
      "10    304.0    0.0    140.0  214.0   6.0         895.0\n",
      "11    145.0  106.0    136.0  208.0  10.0         751.0\n",
      "12    148.0  109.0    139.0  193.0   7.0         768.0\n",
      "13    142.0  130.0    167.0  215.0   6.0         735.0\n",
      "14    354.0    0.0      0.0  234.0   6.0         959.0\n",
      "15    374.0    0.0      0.0  190.0   7.0        1013.0\n",
      "16    159.0  116.0    149.0  175.0  15.0         953.0\n",
      "17    153.0    0.0    239.0  200.0   6.0        1002.0\n",
      "18    295.0  106.0    136.0  206.0  11.0         750.0\n",
      "19    310.0    0.0    143.0  168.0  10.0         914.0\n",
      "20    296.0   97.0      0.0  219.0   9.0         932.0\n",
      "21    305.0  100.0      0.0  196.0  10.0         959.0\n",
      "22    310.0    0.0    143.0  218.0  10.0         787.0\n",
      "23    148.0  180.0      0.0  183.0  11.0         972.0\n",
      "24    146.0  178.0      0.0  192.0  11.0         961.0\n",
      "25    142.0  130.0    167.0  174.0  11.0         883.0\n",
      "26    140.0  128.0    164.0  183.0  12.0         871.0\n",
      "27    308.0  111.0    142.0  217.0  10.0         783.0\n",
      "28    295.0  106.0    136.0  208.0   6.0         871.0\n",
      "29    298.0  107.0    137.0  201.0   6.0         878.0\n",
      "30    314.0    0.0    161.0  207.0   6.0         851.0\n",
      "..      ...    ...      ...    ...   ...           ...\n",
      "74    294.0  106.0    136.0  207.0   6.0         747.0\n",
      "75    146.0  106.0    137.0  209.0   6.0         875.0\n",
      "76    149.0  109.0    139.0  193.0   6.0         892.0\n",
      "77    159.0    0.0    187.0  176.0  11.0         990.0\n",
      "78    261.0   78.0    100.0  201.0   9.0         864.0\n",
      "79    140.0    1.4    198.1  174.9   4.4        1049.9\n",
      "80    141.1    0.6    209.5  188.8   4.6         996.1\n",
      "81    140.1    4.2    215.9  193.9   4.7        1049.5\n",
      "82    140.1   11.8    226.1  207.8   4.9        1020.9\n",
      "83    160.2    0.3    240.0  233.5   9.2         781.0\n",
      "84    140.2   30.5    239.0  169.4   5.3        1028.4\n",
      "85    140.2   44.8    234.9  171.3   5.5        1047.6\n",
      "86    140.5   61.1    238.9  182.5   5.7        1017.7\n",
      "87    143.3   91.8    239.8  200.8   6.2         964.8\n",
      "88    194.3    0.3    240.0  234.2   8.9         780.6\n",
      "89    150.4  110.9    239.7  168.1   6.5        1000.2\n",
      "90    150.3  111.4    238.8  167.3   6.5         999.5\n",
      "91    155.4  122.1    240.0  179.9   6.7         966.8\n",
      "92    165.3  143.2    238.3  200.4   7.1         883.2\n",
      "93    303.8    0.2    239.8  236.4   8.3         780.1\n",
      "94    172.0  162.1    238.5  166.0   7.4         953.3\n",
      "95    172.8  158.3    239.5  166.4   7.4         952.6\n",
      "96    184.3  153.4    239.2  179.0   7.5         920.2\n",
      "97    215.6  112.9    239.0  198.7   7.4         884.0\n",
      "98    295.3    0.0    239.9  236.2   8.3         780.3\n",
      "99    248.3  101.0    239.1  168.9   7.7         954.2\n",
      "100   248.0  101.0    239.9  169.1   7.7         949.9\n",
      "101   258.8   88.0    239.6  175.3   7.6         938.9\n",
      "102   297.1   40.9    239.9  194.0   7.5         908.9\n",
      "103   348.7    0.1    223.1  208.5   9.6         786.2\n",
      "\n",
      "[103 rows x 6 columns]\n",
      "1      62.0\n",
      "2      20.0\n",
      "3      20.0\n",
      "4      21.5\n",
      "5      64.0\n",
      "6      55.0\n",
      "7      20.0\n",
      "8      58.5\n",
      "9      51.0\n",
      "10     51.0\n",
      "11     61.0\n",
      "12     58.0\n",
      "13     67.0\n",
      "14     54.0\n",
      "15     42.5\n",
      "16     54.5\n",
      "17     35.0\n",
      "18     68.5\n",
      "19     48.2\n",
      "20     48.5\n",
      "21     49.0\n",
      "22     46.0\n",
      "23     20.0\n",
      "24     46.0\n",
      "25     20.0\n",
      "26     53.0\n",
      "27     70.0\n",
      "28     70.0\n",
      "29     26.0\n",
      "30     64.0\n",
      "       ... \n",
      "74     47.0\n",
      "75     67.0\n",
      "76     58.5\n",
      "77     39.0\n",
      "78     63.5\n",
      "79     31.0\n",
      "80     53.0\n",
      "81     57.0\n",
      "82     64.0\n",
      "83     75.0\n",
      "84     46.0\n",
      "85     52.5\n",
      "86     60.0\n",
      "87     55.0\n",
      "88     78.0\n",
      "89     27.5\n",
      "90     36.5\n",
      "91     41.5\n",
      "92     27.0\n",
      "93     78.0\n",
      "94     20.0\n",
      "95     20.0\n",
      "96     20.0\n",
      "97     64.0\n",
      "98     77.0\n",
      "99     20.0\n",
      "100    20.0\n",
      "101    20.0\n",
      "102    67.0\n",
      "103    78.0\n",
      "Name: FLOW(cm), Length: 103, dtype: float64\n"
     ]
    }
   ],
   "source": [
    "X=data.iloc[:, 0:6]#data\n",
    "print (X)\n",
    "Z=data.iloc[:, 8]# creating target\n",
    "print(Z)"
   ]
  },
  {
   "cell_type": "code",
   "execution_count": 13,
   "metadata": {},
   "outputs": [
    {
     "name": "stdout",
     "output_type": "stream",
     "text": [
      "[556.4982158558053, 406.60315922447757, 585.837949013739, 387.67684335867625, 107.78163825483868, 143.175404055351, 344.8891086741452, 185.24619442192335, 283.23659356388447, 256.24228608397055]\n",
      "[-0.722468858329629, -0.3473319518575828, -1.9726752124668678, -0.3970378650699, 0.37946988165273066, 0.6108850017180232, 0.08579037341064888, 0.329315614405454, -0.23615793087946146, -0.06786460639925762]\n"
     ]
    }
   ],
   "source": [
    "#task0\n",
    "from sklearn.model_selection import train_test_split \n",
    "from sklearn.linear_model import LinearRegression\n",
    "from sklearn.model_selection import cross_val_predict\n",
    "from sklearn.model_selection import cross_val_score\n",
    "from sklearn.metrics import mean_squared_error\n",
    "from sklearn.metrics import r2_score\n",
    "storeMSEValues = []\n",
    "storeR2Values=[]\n",
    "\n",
    "for i in range(1,11):\n",
    "   \n",
    "    X_train, X_test, y_train, y_test = train_test_split(X, Z, test_size=0.174)# splitting data into train and test set\n",
    "    model =LinearRegression()#applying regression on each fold\n",
    "    model.fit(X_train,y_train)#fitting the model on each fold\n",
    "    predicted = cross_val_predict(model, X_test, y_test, cv=5)#performance on testset\n",
    "    rscore1=r2_score(y_test,predicted)#calculating cv score\n",
    "    mse2=mean_squared_error(y_test,predicted)#calculating mse\n",
    "    (storeMSEValues.append(mse2))\n",
    "    (storeR2Values.append(rscore1))\n",
    "    \n",
    "print(storeMSEValues)\n",
    "print(storeR2Values)"
   ]
  },
  {
   "cell_type": "code",
   "execution_count": 25,
   "metadata": {},
   "outputs": [
    {
     "name": "stdout",
     "output_type": "stream",
     "text": [
      "181.1185086749484\n"
     ]
    },
    {
     "data": {
      "text/plain": [
       "[<matplotlib.lines.Line2D at 0x1a19159e48>]"
      ]
     },
     "execution_count": 25,
     "metadata": {},
     "output_type": "execute_result"
    },
    {
     "data": {
      "image/png": "[encoded data removed]",
      "text/plain": [
       "<matplotlib.figure.Figure at 0x1a193f2240>"
      ]
     },
     "metadata": {},
     "output_type": "display_data"
    }
   ],
   "source": [
    "#task1\n",
    "#Linear regression\n",
    "from sklearn.linear_model import LinearRegression\n",
    "reg=LinearRegression()#creating a linear regression model\n",
    "reg.fit(X_train,y_train)#fitting the data\n",
    "mselinear=mean_squared_error(y_test,reg.predict(X_test))\n",
    "print(mselinear)\n",
    "plt.scatter(y_test,reg.predict(X_test))\n",
    "plt.xlabel('measured')\n",
    "plt.ylabel('predicted')\n",
    "plt.plot(y_test,y_test)\n"
   ]
  },
  {
   "cell_type": "code",
   "execution_count": 39,
   "metadata": {},
   "outputs": [
    {
     "name": "stdout",
     "output_type": "stream",
     "text": [
      "alpha: 0.14735258512759047\n",
      "[-3.21570072e-03 -7.86394572e-02 -1.15001660e-04  4.38973846e-01\n",
      " -1.42855180e-01 -2.56075434e-02]\n",
      "184.22450949077745\n"
     ]
    }
   ],
   "source": [
    "#task 1 for ridge regression\n",
    "#finding the optimized alpha\n",
    "from sklearn.linear_model import RidgeCV\n",
    "alpharidge=10**np.linspace(10,-2,50)*0.5 #creating different values for the regularization parameter\n",
    "ridgeregCV= RidgeCV(alphas = alpharidge, scoring = 'neg_mean_squared_error', normalize = True)#creating a ridge regression model for cross validation\n",
    "ridgeregCV.fit(X_train,y_train)\n",
    "print(\"alpha:\", ridgeregCV.alpha_)# best value for alpha\n",
    "#Ridge regression with optimized alpha and coefficients\n",
    "ridge2= Ridge(alpha=ridgeregCV.alpha_,normalize=True)\n",
    "ridge2.fit(X_train,y_train)\n",
    "print(ridge2.coef_)\n",
    "predreg=ridge2.predict(X_test)\n",
    "mseridge=mean_squared_error(y_test,predreg)\n",
    "print(mseridge)\n",
    "\n",
    "\n",
    "\n",
    "\n",
    "\n"
   ]
  },
  {
   "cell_type": "code",
   "execution_count": 34,
   "metadata": {},
   "outputs": [
    {
     "name": "stdout",
     "output_type": "stream",
     "text": [
      "[5.00000000e+09 2.84493301e+09 1.61872877e+09 9.21034985e+08\n",
      " 5.24056567e+08 2.98181166e+08 1.69661089e+08 9.65348864e+07\n",
      " 5.49270571e+07 3.12527596e+07 1.77824015e+07 1.01179482e+07\n",
      " 5.75697700e+06 3.27564278e+06 1.86379686e+06 1.06047544e+06\n",
      " 6.03396320e+05 3.43324423e+05 1.95346997e+05 1.11149824e+05\n",
      " 6.32427608e+04 3.59842837e+04 2.04745753e+04 1.16497591e+04\n",
      " 6.62855683e+03 3.77156003e+03 2.14596713e+03 1.22102655e+03\n",
      " 6.94747747e+02 3.95302161e+02 2.24921633e+02 1.27977396e+02\n",
      " 7.28174239e+01 4.14321386e+01 2.35743318e+01 1.34134790e+01\n",
      " 7.63208984e+00 4.34255687e+00 2.47085668e+00 1.40588435e+00\n",
      " 7.99929360e-01 4.55149089e-01 2.58973734e-01 1.47352585e-01\n",
      " 8.38416468e-02 4.77047738e-02 2.71433772e-02 1.54442180e-02\n",
      " 8.78755312e-03 5.00000000e-03]\n"
     ]
    },
    {
     "data": {
      "image/png": "[encoded data removed]",
      "text/plain": [
       "<matplotlib.figure.Figure at 0x1a190e7198>"
      ]
     },
     "metadata": {},
     "output_type": "display_data"
    }
   ],
   "source": [
    "#task2for ridge\n",
    "#Ridge   \n",
    "from sklearn.linear_model import Ridge\n",
    "ridgeReg = Ridge(normalize=True)#creating a ridge model\n",
    "coefridge=[]#creating an array for coefficients\n",
    "alpharidge=10**np.linspace(10,-2,50)*0.5 #creating different values for the regularization parameter\n",
    "print (alpharidge)\n",
    "for a in alpharidge:   #ridge regression using different values of alpha\n",
    "    ridgeReg.set_params(alpha=a)\n",
    "    ridgeReg.fit(X_train,y_train)\n",
    "    ridgeReg.coef_\n",
    "    coefridge.append(ridgeReg.coef_)\n",
    "    pred1 = ridgeReg.predict(X_test)\n",
    "\n",
    "ax=plt.gca() #plotting regularization graph path for ridge regression \n",
    "ax.plot(alpharidge,coefridge)\n",
    "ax.set_xscale('log')\n",
    "plt.axis('tight')\n",
    "plt.xlabel('alpha')\n",
    "plt.ylabel('weights')\n",
    "plt.show()"
   ]
  },
  {
   "cell_type": "code",
   "execution_count": 40,
   "metadata": {},
   "outputs": [
    {
     "name": "stdout",
     "output_type": "stream",
     "text": [
      "alpha: 0.14735258512759047\n",
      "[ 0.         -0.06050085  0.          0.50535437 -0.         -0.0013926 ]\n",
      "177.94447764812048\n"
     ]
    }
   ],
   "source": [
    "#task1 for Lasso \n",
    "#finding the optimized alpha\n",
    "from sklearn.linear_model import LassoCV\n",
    "alphalasso=10**np.linspace(10,-2,50)*0.5#creating an aaray for different values of alpha\n",
    "lassoregCV= LassoCV(alphas = alphalasso, normalize = True)#Lasso regression with cross validation\n",
    "lassoregCV.fit(X_train,y_train)\n",
    "print(\"alpha:\", lassoregCV.alpha_)#finding the best alpha\n",
    "#Lasso regression with optimized alpha and coefficients\n",
    "lasso2= Lasso(alpha=lassoregCV.alpha_,normalize=True)#using the best alpha to perform the lasso regression\n",
    "lasso2.fit(X_train,y_train)\n",
    "print(lasso2.coef_)\n",
    "predlasso=lasso2.predict(X_test)\n",
    "mselasso=mean_squared_error(y_test,predlasso)\n",
    "print(mselasso)\n"
   ]
  },
  {
   "cell_type": "code",
   "execution_count": 41,
   "metadata": {},
   "outputs": [
    {
     "name": "stdout",
     "output_type": "stream",
     "text": [
      "[5.00000000e+09 2.84493301e+09 1.61872877e+09 9.21034985e+08\n",
      " 5.24056567e+08 2.98181166e+08 1.69661089e+08 9.65348864e+07\n",
      " 5.49270571e+07 3.12527596e+07 1.77824015e+07 1.01179482e+07\n",
      " 5.75697700e+06 3.27564278e+06 1.86379686e+06 1.06047544e+06\n",
      " 6.03396320e+05 3.43324423e+05 1.95346997e+05 1.11149824e+05\n",
      " 6.32427608e+04 3.59842837e+04 2.04745753e+04 1.16497591e+04\n",
      " 6.62855683e+03 3.77156003e+03 2.14596713e+03 1.22102655e+03\n",
      " 6.94747747e+02 3.95302161e+02 2.24921633e+02 1.27977396e+02\n",
      " 7.28174239e+01 4.14321386e+01 2.35743318e+01 1.34134790e+01\n",
      " 7.63208984e+00 4.34255687e+00 2.47085668e+00 1.40588435e+00\n",
      " 7.99929360e-01 4.55149089e-01 2.58973734e-01 1.47352585e-01\n",
      " 8.38416468e-02 4.77047738e-02 2.71433772e-02 1.54442180e-02\n",
      " 8.78755312e-03 5.00000000e-03]\n"
     ]
    },
    {
     "data": {
      "image/png": "[encoded data removed]",
      "text/plain": [
       "<matplotlib.figure.Figure at 0x1a19f771d0>"
      ]
     },
     "metadata": {},
     "output_type": "display_data"
    }
   ],
   "source": [
    "#task 2 for Lasso Regression\n",
    "#Lasso\n",
    "from sklearn.linear_model import Lasso\n",
    "lassoReg = Lasso(normalize=True)#creating a lasso regression model\n",
    "coeflasso=[]#creating an array for coefficients\n",
    "alphalasso=10**np.linspace(10,-2,50)*0.5#creating an aaray for different values of alpha\n",
    "print (alphalasso)\n",
    "#lasso regression using different values of alpha\n",
    "for a in alphalasso:\n",
    "    lassoReg.set_params(alpha=a)\n",
    "    lassoReg.fit(X_train,y_train)\n",
    "    lassoReg.coef_\n",
    "    coeflasso.append(lassoReg.coef_)\n",
    "    pred2 = lassoReg.predict(X_test)\n",
    "\n",
    "ax=plt.gca()  #plotting the regularization paths for lasso regression\n",
    "ax.plot(alphalasso,coeflasso)\n",
    "ax.set_xscale('log')\n",
    "plt.axis('tight')\n",
    "plt.xlabel('alpha')\n",
    "plt.ylabel('weights')\n",
    "plt.show()\n",
    "\n",
    "\n",
    "\n",
    "\n",
    "\n"
   ]
  },
  {
   "cell_type": "code",
   "execution_count": null,
   "metadata": {},
   "outputs": [],
   "source": []
  }
 ],
 "metadata": {
  "kernelspec": {
   "display_name": "Python 3",
   "language": "python",
   "name": "python3"
  },
  "language_info": {
   "codemirror_mode": {
    "name": "ipython",
    "version": 3
   },
   "file_extension": ".py",
   "mimetype": "text/x-python",
   "name": "python",
   "nbconvert_exporter": "python",
   "pygments_lexer": "ipython3",
   "version": "3.6.4"
  }
 },
 "nbformat": 4,
 "nbformat_minor": 2
}
